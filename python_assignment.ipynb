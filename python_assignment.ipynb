{
 "cells": [
  {
   "cell_type": "code",
   "execution_count": null,
   "metadata": {},
   "outputs": [
    {
     "name": "stdout",
     "output_type": "stream",
     "text": [
      "Final List: [45678.0, 4567.0]\n"
     ]
    }
   ],
   "source": [
    "## Q1.Create the empty list and ask user to enters only int, float elements in the list.\n",
    "def get_num():\n",
    "    num_list = []\n",
    "    while True:\n",
    "        try:\n",
    "            user_input = input(\"Enter an int or float (or type 'done' to finish): \")\n",
    "            if user_input.lower() == 'done':\n",
    "                break\n",
    "            number = float(user_input)  \n",
    "            num_list.append(number)\n",
    "        except ValueError:\n",
    "            print(\"Invalid input. must be int or float\")\n",
    "    \n",
    "    return num_list\n",
    "\n",
    "numbers = get_num()\n",
    "print(\"Final List:\", numbers)\n"
   ]
  },
  {
   "cell_type": "code",
   "execution_count": null,
   "metadata": {},
   "outputs": [
    {
     "name": "stdout",
     "output_type": "stream",
     "text": [
      "Final Dictionary: {'fcgvhjkl': 'dfcghjk'}\n"
     ]
    }
   ],
   "source": [
    "## Q2.Create a empty dictionary d1 ask user to enter the values using loop\n",
    "def get_dict():\n",
    "    d1 = {}\n",
    "    while True:\n",
    "        try:\n",
    "            key = input(\"Enter a key (or type 'done' to finish): \")\n",
    "            if key.lower() == 'done':\n",
    "                break\n",
    "            value = input(\"Enter a value: \")\n",
    "            d1[key] = value  \n",
    "        except Exception as e:\n",
    "            print(f\"Error: {e}\")\n",
    "    \n",
    "    return d1\n",
    "\n",
    "user_dict = get_dict()\n",
    "print(\"Final Dictionary:\", user_dict)\n"
   ]
  },
  {
   "cell_type": "code",
   "execution_count": null,
   "metadata": {},
   "outputs": [
    {
     "name": "stdout",
     "output_type": "stream",
     "text": [
      "Final: {'wer': 'err', 'err': 'rttt'}\n"
     ]
    }
   ],
   "source": [
    "## Q3.Create a empty dictionary d1 ask user to enter the values using comprehensive list\n",
    "try:\n",
    "    n = int(input(\"Enter number of pairs: \")) \n",
    "    d1 = {input(f\"Key {i+1}: \"): input(f\"Value {i+1}: \") for i in range(n)}\n",
    "    print(\"Final:\", d1)\n",
    "except ValueError:\n",
    "    print(\"Invalid input. Must be an integer.\")  \n",
    "except Exception as e:\n",
    "    print(f\"Error: {e}\")\n"
   ]
  },
  {
   "cell_type": "code",
   "execution_count": null,
   "metadata": {},
   "outputs": [
    {
     "name": "stdout",
     "output_type": "stream",
     "text": [
      "Results (Addition, Subtraction, Multiplication, Division): (134.0, -22.0, 4368.0, 0.717948717948718)\n"
     ]
    }
   ],
   "source": [
    "##Q4.Create a function which will accept two integer or float parameter from user and return 4 arithmetic operations in the form of tuple. If user pass argument other than integer and float then error should be created.\n",
    "def calc(a, b):\n",
    "    try:\n",
    "        if not (isinstance(a, (int, float)) and isinstance(b, (int, float))):\n",
    "            raise TypeError(\"Only int or float allowed.\")\n",
    "        \n",
    "        add = a + b\n",
    "        sub = a - b\n",
    "        mul = a * b\n",
    "        div = a / b if b != 0 else \"Cannot divide by zero\"\n",
    "        \n",
    "        return (add, sub, mul, div)\n",
    "    \n",
    "    except TypeError as e:\n",
    "        return str(e)\n",
    "    except Exception as e:\n",
    "        return f\"Error: {e}\"\n",
    "\n",
    "# Taking user input\n",
    "try:\n",
    "    x = float(input(\"Enter first number: \"))\n",
    "    y = float(input(\"Enter second number: \"))\n",
    "    result = calc(x, y)\n",
    "    print(\"Result:\", result)\n",
    "except ValueError:\n",
    "    print(\"Invalid input.\")\n",
    "\n",
    "\n"
   ]
  },
  {
   "cell_type": "code",
   "execution_count": null,
   "metadata": {},
   "outputs": [],
   "source": [
    "##Q5.5.\t Based on the above function (Question number 4) dived the outcome of multiplication by 2. \n",
    "def modify_mul(a, b):\n",
    "    res = calc(a, b)\n",
    "    if isinstance(res, tuple):  \n",
    "        new_mul = res[2] / 2  \n",
    "        return (res[0], res[1], new_mul, res[3])\n",
    "    return res  \n",
    "\n",
    "try:\n",
    "    x = float(input(\"Enter first number: \"))\n",
    "    y = float(input(\"Enter second number: \"))\n",
    "    result = modify_mul(x, y)\n",
    "    print(\"Modified Result:\", result)\n",
    "except ValueError:\n",
    "    print(\"Invalid input.\")\n"
   ]
  },
  {
   "cell_type": "code",
   "execution_count": 3,
   "metadata": {},
   "outputs": [
    {
     "name": "stdout",
     "output_type": "stream",
     "text": [
      "Final List: ['1']\n"
     ]
    }
   ],
   "source": [
    "##Q6.create a function to add only string element in a list. if other than string display the appropriate message.\n",
    "def add(lst, item):\n",
    "    try:\n",
    "        if not isinstance(item, str):\n",
    "            raise TypeError(\"Only strings allowed.\")\n",
    "        lst.append(item)\n",
    "    except TypeError as e:\n",
    "        print(e)\n",
    "\n",
    "my_list = []\n",
    "n = int(input(\"Enter number of elements: \"))\n",
    "\n",
    "for _ in range(n):\n",
    "    value = input(\"Enter a value: \")\n",
    "    add(my_list, value)\n",
    "\n",
    "print(\"Final List:\", my_list)\n"
   ]
  },
  {
   "cell_type": "code",
   "execution_count": null,
   "metadata": {},
   "outputs": [
    {
     "name": "stdout",
     "output_type": "stream",
     "text": [
      "Stats: File not found.\n"
     ]
    }
   ],
   "source": [
    "##Q7.Create a function to read the file and return the dictionary of total lines, total words\n",
    "def file(filename):\n",
    "    try:\n",
    "        with open(filename, \"r\", encoding=\"utf-8\") as f:\n",
    "            lines = f.readlines()\n",
    "            total_lines = len(lines)\n",
    "            total_words = sum(len(line.split()) for line in lines)\n",
    "        return {\"lines\": total_lines, \"words\": total_words}\n",
    "    except FileNotFoundError:\n",
    "        return \"File not found.\"\n",
    "    except Exception as e:\n",
    "        return f\"Error: {e}\"\n",
    "\n",
    "file_name = input(\"Enter file name: \")\n",
    "result = file(file_name)\n",
    "print(\"Stats:\", result)\n"
   ]
  },
  {
   "cell_type": "code",
   "execution_count": null,
   "metadata": {},
   "outputs": [
    {
     "name": "stdout",
     "output_type": "stream",
     "text": [
      "\n",
      "Dictionary:\n",
      "Key: df, Value: ry\n",
      "Key: ug, Value: tt\n"
     ]
    }
   ],
   "source": [
    "##Q8.Create a function which will accept the dictionary and display key values in separate line\n",
    "def xyz(d):\n",
    "    try:\n",
    "        if not isinstance(d, dict):\n",
    "            raise TypeError(\"Only dictionaries allowed.\")\n",
    "        \n",
    "        print(\"\\nDictionary:\")\n",
    "        for key, value in d.items():\n",
    "            print(f\"Key: {key}, Value: {value}\")\n",
    "    except TypeError as e:\n",
    "        print(e)\n",
    "\n",
    "try:\n",
    "    n = int(input(\"Enter number of key  value pairs: \"))  \n",
    "    user_dict = {input(f\"Key {i+1}: \"): input(f\"Value {i+1}: \") for i in range(n)}\n",
    "    \n",
    "    xyz(user_dict)\n",
    "except ValueError:\n",
    "    print(\"Invalid input. Enter an integer only.\")\n",
    "except Exception as e:\n",
    "    print(f\"Error: {e}\")\n",
    "\n"
   ]
  },
  {
   "cell_type": "code",
   "execution_count": null,
   "metadata": {},
   "outputs": [
    {
     "name": "stdout",
     "output_type": "stream",
     "text": [
      "\n",
      "Dictionary Contents:\n",
      "Key: sdf, Value: sdff\n",
      "Key: sdfg, Value: tgh\n"
     ]
    }
   ],
   "source": [
    "##Q9.Create a lambda function which will accept the dictionary and display key values in separate line.\n",
    "efg = lambda d: (print(f\"Key: {k}, Value: {v}\") for k, v in d.items()) if isinstance(d, dict) else print(\"Only dictionaries allowed.\")\n",
    "\n",
    "try:\n",
    "    n = int(input(\"Enter number of keyvalue pairs: \"))  \n",
    "    user_dict = {input(f\"Key {i+1}: \"): input(f\"Value {i+1}: \") for i in range(n)}\n",
    "    \n",
    "    print(\"\\nDictionary:\")\n",
    "    list(efg(user_dict))  \n",
    "except ValueError:\n",
    "    print(\"Invalid input. Enter an integer.\")\n",
    "except Exception as e:\n",
    "    print(f\"Error: {e}\")\n",
    "\n",
    "\n"
   ]
  },
  {
   "cell_type": "code",
   "execution_count": null,
   "metadata": {},
   "outputs": [
    {
     "name": "stdout",
     "output_type": "stream",
     "text": [
      "Password is valid.\n"
     ]
    }
   ],
   "source": [
    "##Q10.Create a function to validate the password: password should contains at least one small letter, one capital letter, one number, and one special character except comma, quotes\n",
    "import re\n",
    "\n",
    "def check(pwd):\n",
    "    try:\n",
    "        if not isinstance(pwd, str):\n",
    "            raise TypeError(\"Password must be a string\")\n",
    "        pattern = r\"^(?=.*[a-z])(?=.*[A-Z])(?=.*\\d)(?=.*[@#$%^&*()-_+=!<>?/;:{}[\\]\\\\|]).{6,}$\"\n",
    "\n",
    "        if \",\" in pwd or \"'\" in pwd or '\"' in pwd:\n",
    "            return \"Password cannot contain commas or quotes.\"\n",
    "        elif not re.match(pattern, pwd):\n",
    "            return \"Invalid password. Must have at least one small letter, one capital letter, one number, and one special character (except comma, quotes).\"\n",
    "        else:\n",
    "            return \"Password is valid.\"\n",
    "\n",
    "    except TypeError as e:\n",
    "        return str(e)\n",
    "\n",
    "password = input(\"Enter password: \")\n",
    "print(check(password))\n"
   ]
  },
  {
   "cell_type": "code",
   "execution_count": 13,
   "metadata": {},
   "outputs": [
    {
     "name": "stdout",
     "output_type": "stream",
     "text": [
      "Factorial: 479001600\n"
     ]
    }
   ],
   "source": [
    "##Q11.Generate a decorator having logic to accept natural numbers . which can be used in a function of factorial\n",
    "def ques(func):\n",
    "    def wrapper(n):\n",
    "        try:\n",
    "            if not isinstance(n, int) or n <= 0:\n",
    "                raise ValueError(\"Only natural numbers\")\n",
    "            return func(n)\n",
    "        except ValueError as e:\n",
    "            return str(e)\n",
    "    \n",
    "    return wrapper\n",
    "\n",
    "@ques\n",
    "def factorial(n):\n",
    "    if n == 1:\n",
    "        return 1\n",
    "    return n * factorial(n - 1)\n",
    "\n",
    "try:\n",
    "    num = int(input(\"Enter a natural number: \"))\n",
    "    print(f\"Factorial: {factorial(num)}\")\n",
    "except ValueError:\n",
    "    print(\"Invalid input\")\n"
   ]
  },
  {
   "cell_type": "code",
   "execution_count": 15,
   "metadata": {},
   "outputs": [
    {
     "name": "stdout",
     "output_type": "stream",
     "text": [
      "Displaying transactions for user 101 in february.\n",
      "Entry recorded for user 102.\n",
      "Exit time updated for User 102.\n"
     ]
    }
   ],
   "source": [
    "##Q12.Generate the decorator for a Garden visit to check if current time is between 7am to 7pm.  If true the only call the function else generate the error. \n",
    "##a.\tFunction payment_check() is active only within given time span and it will check for all user transaction in that given month.\n",
    "##b.\tFunction entry() will be perform entry transaction of the user\n",
    "##c.\tFunction exit() will update the outtime of the user if entry exists  \n",
    "from datetime import datetime\n",
    "def time(func):\n",
    "    def wrapper(*args, **kwargs):\n",
    "        current_hour = datetime.now().hour \n",
    "        if 7 <= current_hour < 19:  \n",
    "            return func(*args, **kwargs)\n",
    "        else:\n",
    "            return \"Allowed time: 7 AM - 7 PM only.\"\n",
    "    return wrapper\n",
    "\n",
    "@time\n",
    "def xyz(user_id, month):\n",
    "    return f\"Displaying transactions for user {user_id} in {month}.\"\n",
    "\n",
    "@time\n",
    "def entry(user_id):\n",
    "    return f\"Entry recorded for user {user_id}.\"\n",
    "\n",
    "@time\n",
    "def exit(user_id):\n",
    "    return f\"Exit time updated for User {user_id}.\"\n",
    "\n",
    "print(xyz(101, \"february\"))\n",
    "print(entry(102))\n",
    "print(exit(102))\n",
    "\n"
   ]
  },
  {
   "cell_type": "code",
   "execution_count": 17,
   "metadata": {},
   "outputs": [
    {
     "name": "stdout",
     "output_type": "stream",
     "text": [
      "Sorted string: dfghjkls\n"
     ]
    }
   ],
   "source": [
    "##Q13.Create lambda function for sorting of the string\n",
    "sort = lambda s: \"\".join(sorted(s))  \n",
    "user_input = input(\"Enter a string: \")\n",
    "print(\"Sorted string:\", sort(user_input))\n",
    "\n",
    "\n"
   ]
  },
  {
   "cell_type": "code",
   "execution_count": 18,
   "metadata": {},
   "outputs": [
    {
     "name": "stdout",
     "output_type": "stream",
     "text": [
      "ABC0001\n",
      "ABC0002\n",
      "ABC0003\n",
      "ABC0004\n",
      "ABC0005\n"
     ]
    }
   ],
   "source": [
    "##Q14.Create a generator which will generate runtime unique value as  ABC0001, ABC0002, ABC0003… \n",
    "def abc():\n",
    "    num = 1\n",
    "    while True:\n",
    "        yield f\"ABC{num:04d}\"  \n",
    "        num += 1\n",
    "gen =abc()\n",
    "\n",
    "for _ in range(5):  \n",
    "    print(next(gen))\n"
   ]
  },
  {
   "cell_type": "code",
   "execution_count": null,
   "metadata": {},
   "outputs": [
    {
     "name": "stdout",
     "output_type": "stream",
     "text": [
      "Invalid format.\n"
     ]
    }
   ],
   "source": [
    "##Q15.Create a decorator to check if all input values are alpha numeric and based on it check PAN detail  AAAAA1111X , rec.no   first 3 chr next 5 number \n",
    "import re\n",
    "def abc(func):\n",
    "    def wrapper(*args):\n",
    "        for arg in args:\n",
    "            if not isinstance(arg, str) or not arg.isalnum():\n",
    "                return \"Invalid input. Only alphanumeric\"\n",
    "       \n",
    "        efg = r\"^[A-Z]{5}[0-9]{4}[A-Z]{1}$\"\n",
    "        xyz = r\"^[A-Z]{3}[0-9]{5}$\"\n",
    "\n",
    "        if re.match(efg, args[0]):\n",
    "            return func(args[0], \"Valid PAN\")\n",
    "        elif re.match(xyz, args[0]):\n",
    "            return func(args[0], \"Valid Receipt Number\")\n",
    "        else:\n",
    "            return \"Invalid format.\"\n",
    "\n",
    "    return wrapper\n",
    "\n",
    "@abc\n",
    "def ijk(value, status):\n",
    "    return f\"{value} is a {status}\"\n",
    "\n",
    "user_input = input(\"Enter PAN or Receipt Number: \").upper()\n",
    "print(ijk(user_input))\n",
    "\n"
   ]
  },
  {
   "cell_type": "code",
   "execution_count": 22,
   "metadata": {},
   "outputs": [
    {
     "name": "stdout",
     "output_type": "stream",
     "text": [
      "Results (69.0, -1.0, 1190.0, 0.9714285714285714)\n"
     ]
    }
   ],
   "source": [
    "##Q16.Accept 2 values from user and perform all arithmetic operations and return all\n",
    "def calc(a, b):\n",
    "    try:\n",
    "        if not (isinstance(a, (int, float)) and isinstance(b, (int, float))):\n",
    "            raise ValueError(\"Only numbers allowed.\")\n",
    "        \n",
    "        return a + b, a - b, a * b, a / b if b != 0 else \"Cannot divide by zero\"\n",
    "    except ValueError as e:\n",
    "        return str(e)\n",
    "try:\n",
    "    x = float(input(\"Enter first number: \"))\n",
    "    y = float(input(\"Enter second number: \"))\n",
    "    print(\"Results\", calc(x, y))\n",
    "except ValueError:\n",
    "    print(\"Invalid input. Please enter valid numbers.\")\n"
   ]
  },
  {
   "cell_type": "code",
   "execution_count": null,
   "metadata": {},
   "outputs": [
    {
     "name": "stdout",
     "output_type": "stream",
     "text": [
      "Data saved successfully: {'Name': 'asdfghj', 'Marks': 34.0, 'Mobile': '1234567890'}\n"
     ]
    }
   ],
   "source": [
    "##Q17.Ask user to enter any 3 input e.g name, marks , mobile_num\n",
    "#if name is with other special characters then it should not not ask for next makrs input\n",
    "   #\tnote: \n",
    "#Create separate functions for validation of every variable \n",
    "#Every single block should have proper exception\n",
    "#Every function must have the docstring\n",
    "#Once the validation is done dictionary has to be created and store the dictionary to one txt file\n",
    "import re\n",
    "\n",
    "def valname(name):\n",
    "    \"\"\"\n",
    "    Validates the name to ensure it contains only alphabets and spaces.\n",
    "    \"\"\"\n",
    "    if not re.match(r\"^[A-Za-z\\s]+$\", name):\n",
    "        raise ValueError(\"Invalid name. No special characters allowed.\")\n",
    "    return name\n",
    "\n",
    "def valmarks(marks):\n",
    "    \"\"\"\n",
    "    Validates marks to ensure it's a number between 0 and 100.\n",
    "    \"\"\"\n",
    "    try:\n",
    "        marks = float(marks)\n",
    "        if marks < 0 or marks > 100:\n",
    "            raise ValueError(\"Marks should be between 0 and 100.\")\n",
    "        return marks\n",
    "    except ValueError:\n",
    "        raise ValueError(\"Invalid marks. Enter a valid number.\")\n",
    "\n",
    "def valmobile(mobile):\n",
    "    \"\"\"\n",
    "    Validates the mobile number to ensure it's a 10-digit numeric value.\n",
    "    \"\"\"\n",
    "    if not re.match(r\"^\\d{10}$\", mobile):\n",
    "        raise ValueError(\"Invalid mobile number. Enter a 10-digit number.\")\n",
    "    return mobile\n",
    "\n",
    "def abc():\n",
    "    \"\"\"\n",
    "    Gets user input and validates each field before proceeding.\n",
    "    If the name is invalid stops immediately.\n",
    "    Stores the valid data in a dictionary and appends it to a text file.\n",
    "    \"\"\"\n",
    "    try:\n",
    "        name = input(\"Enter your name: \")\n",
    "        name = valname(name)\n",
    "\n",
    "    except ValueError as e:\n",
    "        print(\"Error:\", e)\n",
    "        return  \n",
    "\n",
    "    try:\n",
    "        marks = input(\"Enter your marks: \")\n",
    "        marks = valmarks(marks)\n",
    "\n",
    "        mobile = input(\"Enter your mobile number: \")\n",
    "        mobile = valmobile(mobile)\n",
    "\n",
    "        data = {\"Name\": name, \"Marks\": marks, \"Mobile\": mobile}\n",
    "\n",
    "        with open(\"data.txt\", \"a\") as file:  \n",
    "            file.write(str(data) + \"\\n\")\n",
    "        \n",
    "        print(\"Data saved successfully:\", data)\n",
    "\n",
    "    except ValueError as e:\n",
    "        print(\"Error:\", e)\n",
    "\n",
    "abc()\n",
    "\n",
    "\n"
   ]
  },
  {
   "cell_type": "code",
   "execution_count": null,
   "metadata": {},
   "outputs": [],
   "source": [
    "##Q18.Segregate file in small , medium and large size in different folder\n",
    "#filesize less than and equal to 10KB is small file\n",
    "#filesize more than 10 KB is the medium file\n",
    "#filesize more than 40 kb is the large file\n",
    "#create the log file \n",
    "\n",
    "import os\n",
    "import shutil\n",
    "\n",
    "source_directory =\"C:\\\\Users\\\\aaish\\\\OneDrive\\\\Desktop\\\\Aaisha\\\\INTERNSHIP\\\\Python\\\\basic_introduction\\\\Assignment\"\n",
    "\n",
    "small_folder = \"C:\\\\Users\\\\aaish\\\\OneDrive\\\\Desktop\\\\Aaisha\\\\INTERNSHIP\\\\Python\\\\basic_introduction\\\\Assignment\\\\small_size\"\n",
    "middle_folder = \"C:\\\\Users\\\\aaish\\\\OneDrive\\\\Desktop\\\\Aaisha\\\\INTERNSHIP\\\\Python\\\\basic_introduction\\\\Assignment\\\\middle_size\"\n",
    "large_folder = \"C:\\\\Users\\\\aaish\\\\OneDrive\\\\Desktop\\\\Aaisha\\\\INTERNSHIP\\\\Python\\\\basic_introduction\\\\Assignment\\\\large_size\"\n",
    "\n",
    "small_size_limit = 1 * 1024 * 1024 \n",
    "middle_size_limit = 10 * 1024 * 1024  \n",
    "large_size_limit = 40 * 1024 * 1024\n",
    "\n",
    "os.makedirs(small_folder, exist_ok=True)\n",
    "os.makedirs(middle_folder, exist_ok=True)\n",
    "os.makedirs(large_folder, exist_ok=True)\n",
    "\n",
    "def files():\n",
    "    for file_name in os.listdir(source_directory):\n",
    "        file_path = os.path.join(source_directory, file_name)\n",
    "        \n",
    "        if os.path.isfile(file_path):\n",
    "            file_size = os.path.getsize(file_path)\n",
    "            \n",
    "            if file_size < small_size_limit:\n",
    "                destination_folder = small_folder\n",
    "            elif file_size >= small_size_limit and file_size < middle_size_limit:\n",
    "                destination_folder = middle_folder\n",
    "            else:\n",
    "                destination_folder = large_folder\n",
    "            \n",
    "            destination_path = os.path.join(destination_folder, file_name)\n",
    "            \n",
    "            try:\n",
    "                if os.path.exists(destination_path):\n",
    "                    name, ext = os.path.splitext(file_name)\n",
    "                    destination_path = os.path.join(destination_folder, name + \"_1\" + ext)\n",
    "                \n",
    "                shutil.move(file_path, destination_path)\n",
    "                print(f\"Moved {file_name} of size {file_size / (1024 * 1024):.2f} MB to {destination_folder}\")\n",
    "            except Exception as e:\n",
    "                print(f\"Error moving {file_name}: {e}\")\n",
    "\n",
    "files()"
   ]
  },
  {
   "cell_type": "code",
   "execution_count": null,
   "metadata": {},
   "outputs": [
    {
     "name": "stdout",
     "output_type": "stream",
     "text": [
      "\n",
      "|      Welcome Hotel Name      |\n",
      "|current_date: 2025-02-15 13:15:51 recept: no |\n",
      "------------------------------\n",
      "|SR.  Menu          qnt  price |\n",
      "------------------------------\n",
      "|1    sdfghj       7    23.0  |\n",
      "|2    sdfghjkl     45   3.0   |\n",
      "------------------------------\n",
      "|               total  296.0 |\n",
      "|   including GST 10% =29.6 |\n",
      "******************************\n",
      "\n"
     ]
    }
   ],
   "source": [
    "\n",
    "##Q19.In the hotel user is entering the details of menu, quantity and printing the bill. number of menu may varies with customer's order \n",
    "\n",
    "def bill():\n",
    "    \n",
    "    restaurant_name = \"George Restaurant\"\n",
    "    address = \"Camp, Pune\"\n",
    "    contact = \"(+91) 456-7890\"\n",
    "\n",
    "\n",
    "    menu_items = [\n",
    "        {\"name\": \"Burger\", \"price\": 79},\n",
    "        {\"name\": \"Idli\", \"price\": 120},\n",
    "        {\"name\": \"Bisleri\", \"price\": 29},\n",
    "        {\"name\": \"Cheesecake\", \"price\": 50},\n",
    "    ]\n",
    "\n",
    "    \n",
    "    items = []\n",
    "    for menu_item in menu_items:\n",
    "        quantity = int(input(f\"{menu_item['name']} (Price: {menu_item['price']}): \"))\n",
    "        if quantity > 0:  \n",
    "            items.append({\"name\": menu_item[\"name\"], \"quantity\": quantity, \"price\": menu_item[\"price\"]})\n",
    "        print() \n",
    "\n",
    "\n",
    "    print(\"\\n\" + \"*\" * 40)\n",
    "    print(\"{:^40}\".format(restaurant_name))\n",
    "    print(\"{:^40}\".format(address))\n",
    "    print(\"{:^40}\".format(contact))\n",
    "    print(\"*\" * 40)\n",
    "    print(\"{:<20} {:<10} {:>9}\".format(\"Item\", \"Qty\", \"Price\"))\n",
    "    print(\"*\" * 40)\n",
    "\n",
    "    total = 0\n",
    "    for item in items:\n",
    "        item_total = item[\"quantity\"] * item[\"price\"]\n",
    "        total += item_total\n",
    "        print(\n",
    "            \"{:<20} {:<10} {:>9.2f}\".format(\n",
    "                item[\"name\"], item[\"quantity\"], item_total\n",
    "            )\n",
    "        )\n",
    "\n",
    "\n",
    "    print(\"*\" * 40)\n",
    "    print(\"{:<30} {:>9.2f}\".format(\"Total\", total))\n",
    "    print(\"*\" * 40)\n",
    "    print(\"{:^40}\".format(\"Thank You! Please Visit Again!\"))\n",
    "    print(\"*\" * 40)\n",
    "\n",
    "bill()\n",
    "\n",
    "\n",
    "\n",
    "\n",
    "\n"
   ]
  },
  {
   "cell_type": "code",
   "execution_count": 5,
   "metadata": {},
   "outputs": [
    {
     "name": "stdout",
     "output_type": "stream",
     "text": [
      "File not found.\n"
     ]
    }
   ],
   "source": [
    "##Q20.Ask user to enter the valid file path and check which word is having more repetition in the file\n",
    "import os\n",
    "\n",
    "def repeat():\n",
    "    path = input(\"Enter file path: \")\n",
    "    \n",
    "    if not os.path.exists(path):\n",
    "        print(\"File not found.\")\n",
    "        return\n",
    "    \n",
    "    try:\n",
    "        with open(path, \"r\", encoding=\"utf-8\") as file:\n",
    "            words = file.read().lower().split()\n",
    "            count = Counter(words)\n",
    "            most_common = count.most_common(1)[0]  \n",
    "            \n",
    "            print(f\"Most repeated word: '{most_common[0]}' ({most_common[1]} times)\")\n",
    "    except Exception as e:\n",
    "        print(f\"Error: {e}\")\n",
    "\n",
    "repeat()\n",
    "\n"
   ]
  },
  {
   "cell_type": "code",
   "execution_count": 4,
   "metadata": {},
   "outputs": [
    {
     "name": "stdout",
     "output_type": "stream",
     "text": [
      "File not found.\n"
     ]
    }
   ],
   "source": [
    "##21.Create a function which will accept the word and the file path and returns the dictionary as {word: occurances}\n",
    "import os\n",
    "\n",
    "def wcount(word, path):\n",
    "    if not os.path.exists(path):\n",
    "        print(\"File not found.\")\n",
    "        return\n",
    "    \n",
    "    try:\n",
    "        with open(path, \"r\", encoding=\"utf-8\") as file:\n",
    "            words = file.read().lower().split()\n",
    "            count = words.count(word.lower()) \n",
    "            return {word: count}\n",
    "    except Exception as e:\n",
    "        print(f\"Error: {e}\")\n",
    "\n",
    "word = input(\"Enter word: \")\n",
    "path = input(\"Enter file path: \")\n",
    "result = wcount(word, path)\n",
    "if result:\n",
    "    print(result)\n"
   ]
  },
  {
   "cell_type": "code",
   "execution_count": null,
   "metadata": {},
   "outputs": [],
   "source": [
    "##Q22.Create a function which will accept one file and returns all occurrences of the word\n",
    "#{‘market’ : 3, ‘is’:5, ‘new’:2}\n",
    "import os\n",
    "\n",
    "def wcounts(path):\n",
    "    if not os.path.exists(path):\n",
    "        print(\"File not found.\")\n",
    "        return\n",
    "    \n",
    "    try:\n",
    "        with open(path, \"r\", encoding=\"utf-8\") as file:\n",
    "            words = file.read().lower().split()\n",
    "            count = Counter(words)  \n",
    "            return dict(count)\n",
    "    except Exception as e:\n",
    "        print(f\"Error: {e}\")\n",
    "\n",
    "path = input(\"Enter file path: \")\n",
    "result = wcounts(path)\n",
    "if result:\n",
    "    print(result)\n"
   ]
  },
  {
   "cell_type": "code",
   "execution_count": 6,
   "metadata": {},
   "outputs": [
    {
     "name": "stdout",
     "output_type": "stream",
     "text": [
      "Key: sdfg, Value: dfg\n",
      "Key: rtyu, Value: fghj\n"
     ]
    }
   ],
   "source": [
    "##Q23.Based on logic mentioned in question number 8 create the class\n",
    "class abc:\n",
    "    def __init__(self, data):\n",
    "        if not isinstance(data, dict):\n",
    "            raise TypeError(\"Only dictionaries allowed.\")\n",
    "        self.data = data\n",
    "\n",
    "    def show(self):\n",
    "        for key, value in self.data.items():\n",
    "            print(f\"Key: {key}, Value: {value}\")\n",
    "\n",
    "n = int(input(\"Enter number of keyValue pairs: \"))\n",
    "data = {}\n",
    "\n",
    "for i in range(n):\n",
    "    key = input(f\"Enter key {i+1}: \")\n",
    "    value = input(f\"Enter value {i+1}: \")\n",
    "    data[key] = value\n",
    "\n",
    "d = abc(data)\n",
    "d.show()\n"
   ]
  },
  {
   "cell_type": "code",
   "execution_count": null,
   "metadata": {},
   "outputs": [
    {
     "name": "stdout",
     "output_type": "stream",
     "text": [
      "Folder not found.\n"
     ]
    }
   ],
   "source": [
    "##Q24.Ask user to enter the folder path. Folder may contain more than one file and with different extensions. Read only text file and return the more repetitive word\n",
    "import os\n",
    "\n",
    "def repeat():\n",
    "    folder = input(\"Enter folder path: \")\n",
    "\n",
    "    if not os.path.exists(folder) or not os.path.isdir(folder):\n",
    "        print(\"Folder not found.\")\n",
    "        return\n",
    "\n",
    "    wcount = Counter()\n",
    "\n",
    "    try:\n",
    "        for file in os.listdir(folder):\n",
    "            if file.endswith(\".txt\"):\n",
    "                with open(os.path.join(folder, file), \"r\", encoding=\"utf-8\") as f:\n",
    "                    words = f.read().lower().split()\n",
    "                    word_count.update(words)\n",
    "\n",
    "        if wcount:\n",
    "            most_common = word_count.most_common(1)[0]\n",
    "            print(f\"Most repeated word: '{most_common[0]}' ({most_common[1]} times)\")\n",
    "        else:\n",
    "            print(\"No words found in text files.\")\n",
    "\n",
    "    except Exception as e:\n",
    "        print(f\"Error: {e}\")\n",
    "\n",
    "repeat()\n",
    "\n"
   ]
  },
  {
   "cell_type": "code",
   "execution_count": 8,
   "metadata": {},
   "outputs": [
    {
     "name": "stdout",
     "output_type": "stream",
     "text": [
      "File not found.\n"
     ]
    }
   ],
   "source": [
    "##Q25.Create a class for file reading\n",
    "class File:\n",
    "    def __init__(self, path):\n",
    "        self.path = path\n",
    "\n",
    "    def read(self):\n",
    "        try:\n",
    "            with open(self.path, \"r\", encoding=\"utf-8\") as file:\n",
    "                return file.read()\n",
    "        except FileNotFoundError:\n",
    "            print(\"File not found.\")\n",
    "        except Exception as e:\n",
    "            print(f\"Error: {e}\")\n",
    "\n",
    "path = input(\"Enter file path: \")\n",
    "f = File(path)\n",
    "content = f.read()\n",
    "if content:\n",
    "    print(content)\n"
   ]
  },
  {
   "cell_type": "code",
   "execution_count": 10,
   "metadata": {},
   "outputs": [
    {
     "name": "stdout",
     "output_type": "stream",
     "text": [
      "Keys with numeric values: ['234', '876']\n"
     ]
    }
   ],
   "source": [
    "##Q26.Create a function which will accept the dictionary. Dictionary may have values any date type format. If values are in integer or float then return respective key\n",
    "def numkeys(d):\n",
    "    if not isinstance(d, dict):\n",
    "        raise TypeError(\"Only dictionaries allowed.\")\n",
    "\n",
    "    keys = [k for k, v in d.items() if isinstance(v, (int, float))]\n",
    "    return keys\n",
    "\n",
    "n = int(input(\"Enter number of key value pairs: \"))\n",
    "data = {}\n",
    "\n",
    "for i in range(n):\n",
    "    key = input(f\"Enter key {i+1}: \")\n",
    "    value = input(f\"Enter value {i+1}: \")\n",
    "\n",
    "    try:\n",
    "        if '.' in value:\n",
    "            value = float(value)\n",
    "        else:\n",
    "            value = int(value)\n",
    "    except ValueError:\n",
    "        pass\n",
    "\n",
    "    data[key] = value\n",
    "\n",
    "print(\"Keys with numeric values:\", numkeys(data))\n",
    "\n"
   ]
  },
  {
   "cell_type": "code",
   "execution_count": null,
   "metadata": {},
   "outputs": [
    {
     "name": "stdout",
     "output_type": "stream",
     "text": [
      "Valid name: trfasygdx\n"
     ]
    }
   ],
   "source": [
    "##Q27.Create one decorator having exception logic inside it and create another function which will refer to the decorator in case of errors\n",
    "#e.g  val_name is the function validating name but customized error should be thrown from decorator\n",
    "def errors(func):\n",
    "    def wrapper(*args, **kwargs):\n",
    "        try:\n",
    "            return func(*args, **kwargs)\n",
    "        except ValueError as e:\n",
    "            print(f\"Error: {e}\")\n",
    "        except Exception as e:\n",
    "            print(f\"Unexpected Error: {e}\")\n",
    "    return wrapper\n",
    "\n",
    "@errors\n",
    "def valname(name):\n",
    "    if not name.isalpha():\n",
    "        raise ValueError(\"Invalid name.alphabeys only\")\n",
    "    print(\"Valid name:\", name)\n",
    "\n",
    "name = input(\"Enter name: \")\n",
    "valname(name)\n"
   ]
  },
  {
   "cell_type": "code",
   "execution_count": null,
   "metadata": {},
   "outputs": [],
   "source": [
    "##Q28.\tCreate a class User.  User will be instantiated based on key available in the dictionary. If dictionary is not having the key then generate error. If dictionary is having the key then display values against the same.\n",
    "class abc:\n",
    "    def __init__(self, data):\n",
    "        required_keys = [\"name\", \"age\", \"email\"]\n",
    "        for key in required_keys:\n",
    "            if key not in data:\n",
    "                raise KeyError(f\"Missing key: {key}\")\n",
    "\n",
    "        self.name = data[\"name\"]\n",
    "        self.age = data[\"age\"]\n",
    "        self.email = data[\"email\"]\n",
    "\n",
    "    def show(self):\n",
    "        print(\"User Details:\")\n",
    "        print(f\"Name: {self.name}\")\n",
    "        print(f\"Age: {self.age}\")\n",
    "        print(f\"Email: {self.email}\")\n",
    "\n",
    "n = int(input(\"Enter number of key-value pairs: \"))\n",
    "data = {}\n",
    "\n",
    "for i in range(n):\n",
    "    key = input(f\"Enter key {i+1}: \")\n",
    "    value = input(f\"Enter value {i+1}: \")\n",
    "    data[key] = value\n",
    "\n",
    "try:\n",
    "    user = abc(data)\n",
    "    user.show()\n",
    "except KeyError as e:\n",
    "    print(f\"Error: {e}\")\n"
   ]
  },
  {
   "cell_type": "code",
   "execution_count": null,
   "metadata": {},
   "outputs": [
    {
     "name": "stdout",
     "output_type": "stream",
     "text": [
      "User A - Enter Medicine Details:\n"
     ]
    }
   ],
   "source": [
    "##Q29.Create a class pharma. One user A will enter the medicine name and price.  Another user B will generate the bill based on entry done by the first user\n",
    "class Pharma:\n",
    "    medicines = {}\n",
    "\n",
    "    @classmethod\n",
    "    def addmeds(cls):\n",
    "        nummeds = int(input(\"Enter the number of medicines: \"))\n",
    "        for _ in range(nummeds):\n",
    "            name = input(\"Enter medicine name: \").strip()\n",
    "            try:\n",
    "                price = float(input(f\"Enter price of {name}: \"))\n",
    "                cls.medicines[name] = price\n",
    "            except ValueError:\n",
    "                print(\"Invalid price. Please enter a valid number.\")\n",
    "        print(\"Medicine entry completed.\")\n",
    "\n",
    "    @classmethod\n",
    "    def bill(cls):\n",
    "        if not cls.medicines:\n",
    "            print(\"No medicines found. enter first\")\n",
    "            return\n",
    "\n",
    "        total = 0\n",
    "        print(\"\\n--- Bill Generation ---\")\n",
    "        while True:\n",
    "            name = input(\"Enter medicine name or type done \").strip()\n",
    "            if name.lower() == 'done':\n",
    "                break\n",
    "            if name in cls.medicines:\n",
    "                try:\n",
    "                    qty = int(input(f\"Enter quantity of {name}: \"))\n",
    "                    total += cls.medicines[name] * qty\n",
    "                except ValueError:\n",
    "                    print(\"Invalid quantity. Please enter a valid number.\")\n",
    "            else:\n",
    "                print(\"Medicine not found.\")\n",
    "\n",
    "        print(f\"\\nTotal Bill: ₹{total:.2f}\")\n",
    "\n",
    "print(\"User A - Enter Medicine Details:\")\n",
    "Pharma.addmeds()\n",
    "\n",
    "print(\"\\nUser B - Generate Bill:\")\n",
    "Pharma.bill()\n",
    "\n",
    "\n"
   ]
  },
  {
   "cell_type": "code",
   "execution_count": 1,
   "metadata": {},
   "outputs": [
    {
     "name": "stdout",
     "output_type": "stream",
     "text": [
      "File not found.\n",
      "Numbers with positions: {}\n"
     ]
    }
   ],
   "source": [
    "##Q30.Read the file if the file contains number, then return the dictionary based on position and values of the number.\n",
    "#For example: \n",
    "def abc(file_path):\n",
    "    try:\n",
    "        with open(file_path, 'r') as file:\n",
    "            content = file.read().split()\n",
    "\n",
    "        number_dict = {}\n",
    "        for i, word in enumerate(content):\n",
    "            if word.isdigit():\n",
    "                number_dict[i] = int(word)\n",
    "\n",
    "        return number_dict\n",
    "\n",
    "    except FileNotFoundError:\n",
    "        print(\"File not found.\")\n",
    "        return {}\n",
    "\n",
    "file_path = input(\"Enter the file path: \")\n",
    "result = abc(file_path)\n",
    "print(\"Numbers with positions:\", result)\n"
   ]
  },
  {
   "cell_type": "code",
   "execution_count": 3,
   "metadata": {},
   "outputs": [
    {
     "name": "stdout",
     "output_type": "stream",
     "text": [
      "File not found.\n",
      "{'dfghjkl': {}}\n"
     ]
    }
   ],
   "source": [
    "##Q31.Create a class for file reading file if the file contains number, then return the dictionary based on user object, having sub dictionary position and values of the number against that user file.\n",
    "class read:\n",
    "    def __init__(self, file_path):\n",
    "        self.file_path = file_path\n",
    "        self.number_data = {}\n",
    "\n",
    "    def nums(self):\n",
    "        try:\n",
    "            with open(self.file_path, 'r') as file:\n",
    "                content = file.read().split()\n",
    "\n",
    "            for i, word in enumerate(content):\n",
    "                if word.isdigit():\n",
    "                    self.number_data[i] = int(word)\n",
    "\n",
    "        except FileNotFoundError:\n",
    "            print(\"File not found.\")\n",
    "\n",
    "    def data(self):\n",
    "        return self.number_data\n",
    "\n",
    "class userread:\n",
    "    def __init__(self, username, file_reader):\n",
    "        self.username = username\n",
    "        self.file_reader = file_reader\n",
    "        self.data = {username: self.file_reader.data()}\n",
    "\n",
    "    def show(self):\n",
    "        print(self.data)\n",
    "\n",
    "file_path = input(\"Enter the file path: \")\n",
    "reader = read(file_path)\n",
    "reader.nums()\n",
    "\n",
    "user_name = input(\"Enter username: \")\n",
    "user = userread(user_name, reader)\n",
    "user.show()\n"
   ]
  },
  {
   "cell_type": "code",
   "execution_count": null,
   "metadata": {},
   "outputs": [
    {
     "name": "stdout",
     "output_type": "stream",
     "text": [
      "Error: Invalid PAN format. Example: AAAAA1111X\n"
     ]
    }
   ],
   "source": [
    "##Q32.In hotel booking portal, user will enter pan card name and mobile number, store the same information into dictionary after successful booking user will get confirmation number. \n",
    "import re\n",
    "import random\n",
    "\n",
    "class booking:\n",
    "    bookings = {}\n",
    "\n",
    "    @staticmethod\n",
    "    def valpan(pan):\n",
    "        if not re.match(r\"^[A-Z]{5}[0-9]{4}[A-Z]$\", pan):\n",
    "            raise ValueError(\"Invalid PAN format.\")\n",
    "        return pan\n",
    "\n",
    "    @staticmethod\n",
    "    def valmobile(mobile):\n",
    "        if not re.match(r\"^\\d{10}$\", mobile):\n",
    "            raise ValueError(\"Invalid mobile number. Enter a 10-digit number.\")\n",
    "        return mobile\n",
    "\n",
    "    @classmethod\n",
    "    def room(cls):\n",
    "        try:\n",
    "            pan = input(\"Enter your PAN number: \").strip().upper()\n",
    "            cls.valpan(pan)\n",
    "\n",
    "            name = input(\"Enter your full name: \").strip()\n",
    "\n",
    "            mobile = input(\"Enter your mobile number: \").strip()\n",
    "            cls.valmobile(mobile)\n",
    "\n",
    "            confirmation_no = f\"HTL{random.randint(1000, 9999)}\"\n",
    "            cls.bookings[confirmation_no] = {\"PAN\": pan, \"Name\": name, \"Mobile\": mobile}\n",
    "\n",
    "            print(f\"Booking successful! Your confirmation number is {confirmation_no}\")\n",
    "\n",
    "        except ValueError as e:\n",
    "            print(f\"Error: {e}\")\n",
    "\n",
    "booking.room()\n",
    "\n"
   ]
  },
  {
   "cell_type": "code",
   "execution_count": null,
   "metadata": {},
   "outputs": [
    {
     "name": "stdout",
     "output_type": "stream",
     "text": [
      "sdfghjk registered successfully!\n",
      "Invalid credentials!\n",
      "Marks: <bound method Student.marks of <__main__.Student object at 0x00000251A25C4190>>\n",
      "Signed out successfully!\n"
     ]
    }
   ],
   "source": [
    "##Q33.Create a super class user. Having methods register, sing in, sign out.    Super class can be inherited by student, professor, admin\n",
    "#Admin and students can view the marks and professor can enter the marks\n",
    "#But marks can be visible to students on the given result date\n",
    "class user:\n",
    "    users = {}  \n",
    "\n",
    "    def __init__(self, username, password):\n",
    "        self.username = username\n",
    "        self.password = password\n",
    "\n",
    "    @classmethod\n",
    "    def register(cls):\n",
    "        username = input(\"Enter username: \").strip()\n",
    "        password = input(\"Enter password: \").strip()\n",
    "        cls.users[username] = password\n",
    "        print(f\"{username} registered successfully!\")\n",
    "\n",
    "    @classmethod\n",
    "    def signin(cls):\n",
    "        username = input(\"Enter username: \").strip()\n",
    "        password = input(\"Enter password: \").strip()\n",
    "\n",
    "        if cls.users.get(username) == password:\n",
    "            print(f\"{username} signed in successfully!\")\n",
    "            return True\n",
    "        else:\n",
    "            print(\"Invalid credentials!\")\n",
    "            return False\n",
    "\n",
    "    @staticmethod\n",
    "    def signout():\n",
    "        print(\"Signed out successfully!\")\n",
    "\n",
    "\n",
    "class Student(user):\n",
    "    marks = {}\n",
    "\n",
    "    def marks(self, result_date):\n",
    "        from datetime import datetime\n",
    "\n",
    "        today = datetime.today().date()\n",
    "        if today >= result_date:\n",
    "            print(f\"Marks: {self.marks}\")\n",
    "        else:\n",
    "            print(\"Results not available yet.\")\n",
    "\n",
    "\n",
    "class professors(user):\n",
    "    def enter_marks(self, student, subject, mark):\n",
    "        student.marks[subject] = mark\n",
    "        print(f\"Marks entered for {student.username} in {subject}: {mark}\")\n",
    "\n",
    "\n",
    "class admins(user):\n",
    "    def view_marks(self, student):\n",
    "        print(f\"Marks for {student.username}: {student.marks}\")\n",
    "\n",
    "\n",
    "admin = admins(\"admin123\", \"pass123\")\n",
    "student = Student(\"raj\", \"raj123\")\n",
    "professor = professors(\"prof_dinesh\", \"profpass\")\n",
    "user.register()\n",
    "\n",
    "if user.signin():\n",
    "    professor.marks(student, \"Math\", 85)\n",
    "\n",
    "import datetime\n",
    "student.marks(datetime.date(2024, 9, 1))\n",
    "user.signout()\n"
   ]
  },
  {
   "cell_type": "code",
   "execution_count": null,
   "metadata": {},
   "outputs": [
    {
     "name": "stdout",
     "output_type": "stream",
     "text": [
      "Invalid file format\n",
      "No resumes.\n"
     ]
    }
   ],
   "source": [
    "##Q34.Create suitable classes, methods and attributes for resume exchange. Employee to upload the file and the same file is visible to employer \n",
    "class abc:\n",
    "    resumes = {}  \n",
    "    @classmethod\n",
    "    def upload(cls):\n",
    "        name = input(\"Enter your name: \").strip()\n",
    "        file_name = input(\"Enter resume file path: \").strip()\n",
    "\n",
    "        if not file_name.endswith(('.pdf', '.doc', '.docx')):\n",
    "            print(\"Invalid file format\")\n",
    "            return\n",
    "\n",
    "        cls.resumes[name] = file_name\n",
    "        print(f\"Resume uploaded {name}.\")\n",
    "\n",
    "    @classmethod\n",
    "    def view(cls):\n",
    "        if not cls.resumes:\n",
    "            print(\"No resumes.\")\n",
    "            return\n",
    "\n",
    "        print(\"\\n--- Available Resumes ---\")\n",
    "        for emp, resume in cls.resumes.items():\n",
    "            print(f\"Employee: {emp}, Resume File: {resume}\")\n",
    "\n",
    "abc.upload()\n",
    "abc.view()\n"
   ]
  },
  {
   "cell_type": "code",
   "execution_count": null,
   "metadata": {},
   "outputs": [
    {
     "name": "stdout",
     "output_type": "stream",
     "text": [
      "sadfg registered successfully!\n",
      "Employee not found.\n",
      "Leave request submitted for John Doe.\n",
      "\n",
      "--- Leave Requests ---\n",
      "ID: 2, Employee: John Doe, Days: 5, Status: Pending\n",
      "Invalid Leave ID.\n"
     ]
    }
   ],
   "source": [
    "##Q35.\tPerform the database connectivity and save all employee details in the database \n",
    "#Like name, mobile, address\n",
    "import sqlite3\n",
    "\n",
    "class xyz:\n",
    "    def __init__(self):\n",
    "        self.conn = sqlite3.connect(\"employee.db\")\n",
    "        self.cursor = self.conn.cursor()\n",
    "        self.create()\n",
    "\n",
    "    def create(self):\n",
    "        self.cursor.execute('''CREATE TABLE IF NOT EXISTS employees (\n",
    "                                id INTEGER PRIMARY KEY AUTOINCREMENT,\n",
    "                                name TEXT,\n",
    "                                mobile TEXT,\n",
    "                                address TEXT,\n",
    "                                salary REAL)''')\n",
    "\n",
    "        self.cursor.execute('''CREATE TABLE IF NOT EXISTS leave_requests (\n",
    "                                id INTEGER PRIMARY KEY AUTOINCREMENT,\n",
    "                                employee_name TEXT,\n",
    "                                days INTEGER,\n",
    "                                status TEXT DEFAULT 'Pending')''')\n",
    "\n",
    "        self.cursor.execute('''CREATE TABLE IF NOT EXISTS approved_leaves (\n",
    "                                id INTEGER PRIMARY KEY AUTOINCREMENT,\n",
    "                                employee_name TEXT,\n",
    "                                days INTEGER)''')\n",
    "\n",
    "        self.conn.commit()\n",
    "\n",
    "    def register(self):\n",
    "        name = input(\"Enter name: \").strip()\n",
    "        mobile = input(\"Enter mobile number: \").strip()\n",
    "        address = input(\"Enter address: \").strip()\n",
    "        salary = float(input(\"Enter salary: \"))\n",
    "\n",
    "        self.cursor.execute(\"INSERT INTO employees (name, mobile, address, salary) VALUES (?, ?, ?, ?)\",\n",
    "                            (name, mobile, address, salary))\n",
    "        self.conn.commit()\n",
    "        print(f\"{name} registered successfully!\")\n",
    "\n",
    "    def calculate(self, employee_name):\n",
    "        self.cursor.execute(\"SELECT salary FROM employees WHERE name=?\", (employee_name,))\n",
    "        result = self.cursor.fetchone()\n",
    "        if result:\n",
    "            print(f\"Salary of {employee_name}: ₹{result[0]:.2f}\")\n",
    "        else:\n",
    "            print(\"Employee not found.\")\n",
    "\n",
    "    def apply(self, employee_name, days):\n",
    "        self.cursor.execute(\"INSERT INTO leave_requests (employee_name, days) VALUES (?, ?)\",\n",
    "                            (employee_name, days))\n",
    "        self.conn.commit()\n",
    "        print(f\"Leave request submitted for {employee_name}.\")\n",
    "\n",
    "    def view(self):\n",
    "        self.cursor.execute(\"SELECT * FROM leave_requests\")\n",
    "        leaves = self.cursor.fetchall()\n",
    "        if not leaves:\n",
    "            print(\"No leave requests found.\")\n",
    "            return\n",
    "        print(\"\\n--- Leave Requests ---\")\n",
    "        for leave in leaves:\n",
    "            print(f\"ID: {leave[0]}, Employee: {leave[1]}, Days: {leave[2]}, Status: {leave[3]}\")\n",
    "\n",
    "    def approve(self, leave_id):\n",
    "        self.cursor.execute(\"SELECT * FROM leave_requests WHERE id=?\", (leave_id,))\n",
    "        leave = self.cursor.fetchone()\n",
    "\n",
    "        if not leave:\n",
    "            print(\"Invalid Leave ID.\")\n",
    "            return\n",
    "\n",
    "        self.cursor.execute(\"INSERT INTO approved_leaves (employee_name, days) VALUES (?, ?)\",\n",
    "                            (leave[1], leave[2]))\n",
    "        self.cursor.execute(\"DELETE FROM leave_requests WHERE id=?\", (leave_id,))\n",
    "        self.conn.commit()\n",
    "        print(f\"Leave approved for {leave[1]}.\")\n",
    "\n",
    "    def close_conn(self):\n",
    "        self.conn.close()\n",
    "        \n",
    "system = xyz()\n",
    "system.register()\n",
    "system.calculate(\"rohan singh\")\n",
    "system.apply(\"raj singh\", 5)\n",
    "system.view()\n",
    "system.approve(1)\n",
    "system.close_conn()\n",
    "\n",
    " \n"
   ]
  }
 ],
 "metadata": {
  "kernelspec": {
   "display_name": "Python 3",
   "language": "python",
   "name": "python3"
  },
  "language_info": {
   "codemirror_mode": {
    "name": "ipython",
    "version": 3
   },
   "file_extension": ".py",
   "mimetype": "text/x-python",
   "name": "python",
   "nbconvert_exporter": "python",
   "pygments_lexer": "ipython3",
   "version": "3.11.9"
  }
 },
 "nbformat": 4,
 "nbformat_minor": 2
}
